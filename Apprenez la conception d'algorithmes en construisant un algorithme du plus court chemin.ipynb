{
 "cells": [
  {
   "cell_type": "markdown",
   "id": "add553da",
   "metadata": {},
   "source": [
    "### Les algorithmes sont des procédures étape par étape que les développeurs utilisent pour effectuer des calculs et résoudre des problèmes logiquement. \n",
    "\n",
    "### Dans ce projet, vous apprendrez à utiliser des fonctions, des boucles, des déclarations conditionnelles et des compréhensions de dictionnaire pour implémenter un algorithme de plus court chemin.\n",
    "\n",
    "\n",
    "\n",
    "\n",
    "\n"
   ]
  },
  {
   "cell_type": "code",
   "execution_count": null,
   "id": "072134ec",
   "metadata": {},
   "outputs": [],
   "source": []
  },
  {
   "cell_type": "markdown",
   "id": "0ffc34a7",
   "metadata": {},
   "source": [
    "## Étape 1\n",
    "### Jusqu'à présent, vous avez déjà rencontré différents types de données :\n",
    "### Les types de données immuables, tels que les entiers, les chaînes de caractères, les tuples et les booléens.\n",
    "### Les types de données mutables, tels que les listes.\n",
    "### Un dictionnaire est un type de données mutable et il est identifié par une paire d'accolades, {}.\n",
    "### Commencez par créer une variable appelée copper et attribuez-lui un dictionnaire vide en utilisant une paire d'accolades, de la même manière que vous créeriez une liste vide avec une paire de crochets.\n",
    "### copper = {}"
   ]
  },
  {
   "cell_type": "code",
   "execution_count": 1,
   "id": "31307442",
   "metadata": {},
   "outputs": [],
   "source": [
    "copper = {}"
   ]
  },
  {
   "cell_type": "markdown",
   "id": "f1d8e1b1",
   "metadata": {},
   "source": [
    "#### Étape 2\n",
    "#### Les dictionnaires stockent des données sous la forme de paires clé-valeur. Une clé est séparée de sa valeur correspondante par un deux-points. Et chaque paire clé-valeur est séparée de la paire suivante par une virgule :\n",
    "#### mon_dict = { 'nom': 'Michael', 'occupation': 'Bûcheron' }\n",
    "\n",
    "#### Ajoutez une nouvelle paire clé-valeur à votre dictionnaire. Utilisez la chaîne de caractères espèce comme clé, et la chaîne de caractères cochon d'Inde comme valeur.\n",
    "\n",
    "\n",
    "\n",
    "\n",
    "\n"
   ]
  },
  {
   "cell_type": "code",
   "execution_count": 2,
   "id": "0a426fe0",
   "metadata": {},
   "outputs": [],
   "source": [
    "copper = {'species':'guinea pig'}"
   ]
  },
  {
   "cell_type": "markdown",
   "id": "ded645ae",
   "metadata": {},
   "source": [
    "#### Étape 3\n",
    "#### Les clés doivent être uniques au sein d'un dictionnaire et elles ne peuvent être que des types de données immuables. Cela signifie que vous ne pouvez pas utiliser une liste ou un autre dictionnaire comme clés.\n",
    "#### Ajoutez une autre clé âge à votre dictionnaire et donnez-lui le nombre entier 2 comme valeur.\n",
    "\n",
    "\n",
    "\n",
    "\n",
    "\n"
   ]
  },
  {
   "cell_type": "code",
   "execution_count": 3,
   "id": "5ae3af17",
   "metadata": {},
   "outputs": [],
   "source": [
    "copper = {'species': 'guinea pig',\n",
    "'age': int(2)}"
   ]
  },
  {
   "cell_type": "markdown",
   "id": "7ff5e1f2",
   "metadata": {},
   "source": [
    "#### Étape 4\n",
    "#### Vous pouvez accéder aux données stockées dans un dictionnaire via ses clés :\n",
    "mon_dict = { 'nom': 'Michael', 'occupation': 'Bûcheron' }\n",
    "\n",
    "mon_dict['nom'] # 'Michael'\n",
    "#### Après votre dictionnaire, suivez l'exemple ci-dessus pour accéder à la clé espèce de copper et imprimez le résultat."
   ]
  },
  {
   "cell_type": "code",
   "execution_count": 4,
   "id": "fe84ec99",
   "metadata": {},
   "outputs": [
    {
     "name": "stdout",
     "output_type": "stream",
     "text": [
      "guinea pig\n"
     ]
    }
   ],
   "source": [
    "copper = {\n",
    "    'species': 'guinea pig',\n",
    "    'age': 2\n",
    "}\n",
    "print(copper['species'])"
   ]
  },
  {
   "cell_type": "markdown",
   "id": "fbf37e7c",
   "metadata": {},
   "source": [
    "#### Étape 5\n",
    "#### Maintenant, modifiez votre appel print() existant pour imprimer la valeur de la clé âge."
   ]
  },
  {
   "cell_type": "code",
   "execution_count": 5,
   "id": "6157958b",
   "metadata": {},
   "outputs": [
    {
     "name": "stdout",
     "output_type": "stream",
     "text": [
      "2\n"
     ]
    }
   ],
   "source": [
    "copper = {\n",
    "    'species': 'guinea pig',\n",
    "    'age': 2\n",
    "}\n",
    "print(copper['age'])"
   ]
  },
  {
   "cell_type": "markdown",
   "id": "d5ed916f",
   "metadata": {},
   "source": [
    "#### step 6\n",
    "\n",
    "#### Pour ajouter une nouvelle paire clé-valeur après avoir déclaré un dictionnaire, vous pouvez indiquer la clé de la même manière que vous accéderiez à une clé existante, et définir la valeur de la nouvelle clé en utilisant l'opérateur d'assignation :\n",
    "mon_dict = { 'nom': 'Michael', 'occupation': 'Bûcheron' }\n",
    "\n",
    "mon_dict['pays'] = 'Canada'\n",
    "#### Supprimez votre appel print(). Ensuite, après avoir déclaré copper, ajoutez la clé nourriture à votre dictionnaire et définissez sa valeur sur foin.\n",
    "\n",
    "\n",
    "\n",
    "\n",
    "\n"
   ]
  },
  {
   "cell_type": "code",
   "execution_count": 6,
   "id": "720fef7f",
   "metadata": {},
   "outputs": [],
   "source": [
    "copper = {\n",
    "    'species': 'guinea pig',\n",
    "    'age': 2\n",
    "}\n",
    "copper['food'] = 'hay'"
   ]
  },
  {
   "cell_type": "markdown",
   "id": "70fd6101",
   "metadata": {},
   "source": [
    "#### Étape 7\n",
    "#### Maintenant, en bas de votre code, imprimez copper."
   ]
  },
  {
   "cell_type": "code",
   "execution_count": 7,
   "id": "94db3eab",
   "metadata": {},
   "outputs": [
    {
     "name": "stdout",
     "output_type": "stream",
     "text": [
      "{'species': 'guinea pig', 'age': 2, 'food': 'hay'}\n"
     ]
    }
   ],
   "source": [
    "copper = {\n",
    "    'species': 'guinea pig',\n",
    "    'age': 2\n",
    "}\n",
    "copper['food'] = 'hay'\n",
    "print(copper)\n"
   ]
  },
  {
   "cell_type": "markdown",
   "id": "4471cc10",
   "metadata": {},
   "source": [
    "#### Étape 8\n",
    "#### La même syntaxe peut être utilisée pour changer la valeur d'une clé existante.\n",
    "#### Juste avant l'appel print(), accédez à la clé espèce et réaffectez sa valeur à Cavia porcellus.\n",
    "\n",
    "\n",
    "\n",
    "\n",
    "\n"
   ]
  },
  {
   "cell_type": "code",
   "execution_count": 8,
   "id": "13f9005f",
   "metadata": {},
   "outputs": [
    {
     "name": "stdout",
     "output_type": "stream",
     "text": [
      "{'species': 'Cavia porcellus', 'age': 2, 'food': 'hay'}\n"
     ]
    }
   ],
   "source": [
    "copper = {\n",
    "    'species': 'guinea pig',\n",
    "    'age': 2\n",
    "}\n",
    "copper['food'] = 'hay'\n",
    "copper['species'] = 'Cavia porcellus'\n",
    "\n",
    "print(copper)"
   ]
  },
  {
   "cell_type": "markdown",
   "id": "d400449b",
   "metadata": {},
   "source": [
    "#### Étape 9\n",
    "#### Vous pouvez supprimer une paire clé-valeur d'un dictionnaire en utilisant le mot-clé del. La syntaxe est la suivante :\n",
    "mon_dict = { 'nom': 'Michael', 'occupation': 'Bûcheron' }\n",
    "\n",
    "del mon_dict['occupation']\n",
    "\n",
    "#### Juste avant votre appel print(), utilisez le mot-clé del pour supprimer la clé âge et sa valeur de copper."
   ]
  },
  {
   "cell_type": "code",
   "execution_count": 9,
   "id": "be30afe6",
   "metadata": {},
   "outputs": [
    {
     "name": "stdout",
     "output_type": "stream",
     "text": [
      "{'species': 'Cavia porcellus', 'food': 'hay'}\n"
     ]
    }
   ],
   "source": [
    "copper = {\n",
    "    'species': 'guinea pig',\n",
    "    'age': 2\n",
    "}\n",
    "copper['food'] = 'hay'\n",
    "copper['species'] = 'Cavia porcellus'\n",
    "del copper['age']\n",
    "print(copper)"
   ]
  },
  {
   "cell_type": "markdown",
   "id": "8ae00f2f",
   "metadata": {},
   "source": [
    "#### Étape 10\n",
    "#### Maintenant que vous avez compris les aspects de base des dictionnaires, vous pouvez passer à la construction de l'algorithme du plus court chemin.\n",
    "#### Supprimez chaque ligne de code après la déclaration du dictionnaire copper."
   ]
  },
  {
   "cell_type": "code",
   "execution_count": 10,
   "id": "2e95e09d",
   "metadata": {},
   "outputs": [],
   "source": [
    "copper = {\n",
    "    'species': 'guinea pig',\n",
    "    'age': 2\n",
    "}"
   ]
  },
  {
   "cell_type": "markdown",
   "id": "1d7f4918",
   "metadata": {},
   "source": [
    "#### Étape 11\n",
    "#### Les graphes sont des structures de données représentant des relations entre des paires d'éléments. Ces éléments, appelés nœuds, peuvent être des objets de la vie réelle, des entités, des points dans l'espace ou autres. Les connexions entre les nœuds sont appelées les arêtes.\n",
    "#### Par exemple, un graphe peut être utilisé pour représenter deux points dans l'espace, A et B, connectés par un chemin. Un graphe comme celui-ci sera constitué de deux nœuds reliés par une arête.\n",
    "#### Renommez le dictionnaire copper en my_graph. Cela représentera le graphe pour tester votre algorithme."
   ]
  },
  {
   "cell_type": "code",
   "execution_count": 11,
   "id": "9dbdd8f8",
   "metadata": {},
   "outputs": [],
   "source": [
    "my_graph = {\n",
    "    'species': 'guinea pig',\n",
    "    'age': 2\n",
    "}"
   ]
  },
  {
   "cell_type": "markdown",
   "id": "620c2dd6",
   "metadata": {},
   "source": [
    "#### Étape 12\n",
    "#### Maintenant, remplacez les clés existantes par les chaînes A et B - une pour chaque nœud. Ensuite, remplacez chaque valeur par la chaîne représentant le nœud connecté à la clé."
   ]
  },
  {
   "cell_type": "code",
   "execution_count": 12,
   "id": "fa39b39c",
   "metadata": {},
   "outputs": [],
   "source": [
    "my_graph = {\n",
    "    'A': 'B',\n",
    "    'B': 'A'\n",
    "}"
   ]
  },
  {
   "cell_type": "markdown",
   "id": "2c4cb702",
   "metadata": {},
   "source": [
    "#### Étape 13\n",
    "#### Ajoutez un autre nœud connecté à B à votre graphe et appelez-le C.\n",
    "#### Modifiez votre dictionnaire existant pour représenter cette disposition. Utilisez une liste pour représenter les connexions multiples de votre nœud B. "
   ]
  },
  {
   "cell_type": "code",
   "execution_count": 13,
   "id": "1b75d3d9",
   "metadata": {},
   "outputs": [],
   "source": [
    "my_graph = {\n",
    "    'A': 'B',\n",
    "    'B': ['A','C'],\n",
    "    'C': 'B'\n",
    "}"
   ]
  },
  {
   "cell_type": "markdown",
   "id": "1f112e3c",
   "metadata": {},
   "source": [
    "#### Étape 14\n",
    "#### Ajoutez un dernier nœud, D, qui est connecté à A et C. Modifiez votre dictionnaire pour représenter cette structure. Encore une fois, utilisez une liste pour représenter les connexions multiples.\n",
    "\n",
    "\n",
    "\n",
    "\n",
    "\n"
   ]
  },
  {
   "cell_type": "code",
   "execution_count": 14,
   "id": "7e8b6c68",
   "metadata": {},
   "outputs": [],
   "source": [
    "my_graph = {\n",
    "    'A': ['B', 'D'],      \n",
    "    'B': ['A', 'C'],       \n",
    "    'C': ['B', 'D'],       \n",
    "    'D': ['A', 'C'] \n",
    "}"
   ]
  },
  {
   "cell_type": "markdown",
   "id": "bc9d8c9f",
   "metadata": {},
   "source": [
    "#### Étape 15\n",
    "#### Un graphe est appelé un graphe pondéré lorsque ses arêtes sont associées à des poids, représentant une distance, un temps ou une autre valeur quantitative.\n",
    "#### Dans votre cas, ces poids seront les distances entre chaque nœud ou point dans l'espace. Pour représenter un graphe pondéré, vous pouvez modifier votre dictionnaire, en utilisant une liste de tuples pour chaque valeur.\n",
    "#### Le premier élément du tuple sera le nœud connecté, et le deuxième élément sera un nombre entier indiquant la distance.\n",
    "#### Modifiez my_graph[\"A\"] en une liste de tuples, en tenant compte des distances suivantes :\n",
    "#### Arête Poids\n",
    "#### A-B 3\n",
    "#### B-C 4\n",
    "#### C-D 7\n",
    "#### D-A 1"
   ]
  },
  {
   "cell_type": "code",
   "execution_count": 15,
   "id": "903afff5",
   "metadata": {},
   "outputs": [],
   "source": [
    "my_graph = {\n",
    "    'A': [('B', 3), ('D', 1)],\n",
    "    'B': ['A', 'C'],\n",
    "    'C': ['B', 'D'],\n",
    "    'D': ['A', 'C']\n",
    "}\n"
   ]
  },
  {
   "cell_type": "markdown",
   "id": "744cb33d",
   "metadata": {},
   "source": [
    "#### Step 16\n",
    "#### Maintenant, modifiez my_graph[\"B\"] en une liste de tuples. La distance B-C est de 4."
   ]
  },
  {
   "cell_type": "code",
   "execution_count": 16,
   "id": "f0ff534a",
   "metadata": {},
   "outputs": [],
   "source": [
    "my_graph = {\n",
    "    'A': [('B', 3), ('D', 1)],\n",
    "    'B': [('A', 3), ('C', 4)],\n",
    "    'C': ['B', 'D'],\n",
    "    'D': ['A', 'C']\n",
    "}\n"
   ]
  },
  {
   "cell_type": "markdown",
   "id": "b69bfd4c",
   "metadata": {},
   "source": [
    "#### Step 17\n",
    "#### De la même manière, modifiez les deux listes restantes en considérant que la distance C-D est de 7."
   ]
  },
  {
   "cell_type": "code",
   "execution_count": 17,
   "id": "dcfdf1e9",
   "metadata": {},
   "outputs": [],
   "source": [
    "my_graph = {\n",
    "    'A': [('B', 3), ('D', 1)],\n",
    "    'B': [('A', 3), ('C', 4)],\n",
    "    'C': [('B', 4), ('D', 7)],\n",
    "    'D': [('A', 1), ('C', 7)]\n",
    "}"
   ]
  },
  {
   "cell_type": "markdown",
   "id": "45bab023",
   "metadata": {},
   "source": [
    "#### Step 18\n",
    "#### Maintenant, vous allez commencer à développer l'algorithme pour calculer le plus court chemin entre chaque nœud dans votre nouveau graphe.\n",
    "#### Déclarez une fonction vide appelée shortest_path et n'oubliez pas le mot-clé pass."
   ]
  },
  {
   "cell_type": "code",
   "execution_count": 18,
   "id": "e3f510c6",
   "metadata": {},
   "outputs": [],
   "source": [
    "my_graph = {\n",
    "    'A': [('B', 3), ('D', 1)],\n",
    "    'B': [('A', 3), ('C', 4)],\n",
    "    'C': [('B', 4), ('D', 7)],\n",
    "    'D': [('A', 1), ('C', 7)]\n",
    "}\n",
    "def shortest_path():\n",
    "    pass"
   ]
  },
  {
   "cell_type": "markdown",
   "id": "dbf802bf",
   "metadata": {},
   "source": [
    "#### Step 19\n",
    "#### L'algorithme commencera à un nœud spécifié. Ensuite, il explorera le graphe pour trouver le plus court chemin entre le nœud de départ, ou source, et tous les autres nœuds.\n",
    "#### Pour cela, votre fonction a besoin de deux paramètres : graphe et départ. Ajoutez-les à la déclaration de votre fonction."
   ]
  },
  {
   "cell_type": "code",
   "execution_count": 19,
   "id": "7d687ac7",
   "metadata": {},
   "outputs": [],
   "source": [
    "my_graph = {\n",
    "    'A': [('B', 3), ('D', 1)],\n",
    "    'B': [('A', 3), ('C', 4)],\n",
    "    'C': [('B', 4), ('D', 7)],\n",
    "    'D': [('A', 1), ('C', 7)]\n",
    "}\n",
    "\n",
    "def shortest_path(graph,start):\n",
    "    pass"
   ]
  },
  {
   "cell_type": "markdown",
   "id": "39800c97",
   "metadata": {},
   "source": [
    "#### Step 20\n",
    "#### Pour suivre les nœuds visités, vous avez besoin d'une liste de tous les nœuds dans le graphe. Une fois qu'un nœud est visité, il sera retiré de cette liste.\n",
    "#### Maintenant, remplacez le mot-clé pass par une variable nommée unvisited et attribuez-lui une liste vide."
   ]
  },
  {
   "cell_type": "code",
   "execution_count": 20,
   "id": "b398260c",
   "metadata": {},
   "outputs": [],
   "source": [
    "my_graph = {\n",
    "    'A': [('B', 3), ('D', 1)],\n",
    "    'B': [('A', 3), ('C', 4)],\n",
    "    'C': [('B', 4), ('D', 7)],\n",
    "    'D': [('A', 1), ('C', 7)]\n",
    "}\n",
    "\n",
    "def shortest_path(graph, start):\n",
    "    unvisited = []"
   ]
  },
  {
   "cell_type": "markdown",
   "id": "e0d3cdff",
   "metadata": {},
   "source": [
    "#### Step 21\n",
    "#### Créez une boucle for pour itérer sur votre graphe, et ajoutez chaque nœud à la liste unvisited."
   ]
  },
  {
   "cell_type": "code",
   "execution_count": 21,
   "id": "f592428a",
   "metadata": {},
   "outputs": [],
   "source": [
    "def shortest_path(graph, start):\n",
    "    unvisited = []\n",
    "    for node in graph:\n",
    "        unvisited.append(node)"
   ]
  },
  {
   "cell_type": "markdown",
   "id": "fbcc97f2",
   "metadata": {},
   "source": [
    "#### Step 22\n",
    "#### Pendant que l'algorithme explore le graphe, il devrait garder une trace de la distance actuellement connue la plus courte entre le nœud de départ et les autres nœuds.\n",
    "#### Avant votre boucle for, créez une nouvelle variable nommée distances et attribuez-lui un dictionnaire vide."
   ]
  },
  {
   "cell_type": "code",
   "execution_count": 22,
   "id": "6b52382c",
   "metadata": {},
   "outputs": [],
   "source": [
    "def shortest_path(graph, start):\n",
    "    unvisited = []\n",
    "    distances = {}\n",
    "    for node in graph:\n",
    "        unvisited.append(node)"
   ]
  },
  {
   "cell_type": "markdown",
   "id": "a7885adf",
   "metadata": {},
   "source": [
    "#### Step 23\n",
    "#### La distance à partir du nœud de départ est zéro, car l'algorithme commence son évaluation directement à partir de là.\n",
    "#### Après avoir ajouté un nœud à unvisited dans votre boucle, créez une instruction if qui se déclenche si le nœud est égal au nœud de départ. Ensuite, attribuez 0 à ce nœud à l'intérieur du dictionnaire distances."
   ]
  },
  {
   "cell_type": "code",
   "execution_count": 23,
   "id": "3ef4b765",
   "metadata": {},
   "outputs": [],
   "source": [
    "def shortest_path(graph, start):\n",
    "    unvisited = []\n",
    "    distances = {}\n",
    "    for node in graph:\n",
    "        unvisited.append(node)\n",
    "        if node == start:\n",
    "            distances[node] = 0"
   ]
  },
  {
   "cell_type": "markdown",
   "id": "b65fca46",
   "metadata": {},
   "source": [
    "#### Step 24\n",
    "#### Au début, tous les autres nœuds du graphe sont considérés comme étant à une distance infinie du nœud source, car la distance n'a pas encore été déterminée.\n",
    "#### Créez une clause else et attribuez une valeur infinie au nœud dans le dictionnaire distances. Pour cela, utilisez la fonction float() avec la chaîne inf comme argument pour générer un nombre à virgule flottante représentant l'infini positif."
   ]
  },
  {
   "cell_type": "markdown",
   "id": "2829a36d",
   "metadata": {},
   "source": []
  },
  {
   "cell_type": "code",
   "execution_count": 24,
   "id": "5809cb51",
   "metadata": {},
   "outputs": [],
   "source": [
    "def shortest_path(graph, start):\n",
    "    unvisited = []\n",
    "    distances = {}\n",
    "    for node in graph:\n",
    "        unvisited.append(node)\n",
    "        if node == start:\n",
    "            distances[node] = 0\n",
    "        else:\n",
    "            distances[node] = float('inf')    "
   ]
  },
  {
   "cell_type": "markdown",
   "id": "8600c8a9",
   "metadata": {},
   "source": [
    "#### Step 25\n",
    "#### Après votre boucle for, ajoutez un appel print() et passez la chaîne suivante pour voir les valeurs des variables que vous avez créées : f'Non visité : {unvisited}\\nDistances : {distances}'."
   ]
  },
  {
   "cell_type": "code",
   "execution_count": 25,
   "id": "f8443035",
   "metadata": {},
   "outputs": [],
   "source": [
    "def shortest_path(graph, start):\n",
    "    unvisited = []\n",
    "    distances = {}\n",
    "    for node in graph:\n",
    "        unvisited.append(node)\n",
    "        if node == start:\n",
    "            distances[node] = 0\n",
    "        else:\n",
    "            distances[node] = float('inf')\n",
    "    print(f'Unvisited: {unvisited}\\nDistances: {distances}')        "
   ]
  },
  {
   "cell_type": "markdown",
   "id": "23a784d4",
   "metadata": {},
   "source": [
    "#### Step 26\n",
    "####  Maintenant, appelez votre fonction en passant my_graph et 'A' comme arguments."
   ]
  },
  {
   "cell_type": "code",
   "execution_count": 26,
   "id": "421edbb4",
   "metadata": {},
   "outputs": [
    {
     "name": "stdout",
     "output_type": "stream",
     "text": [
      "Unvisited: ['A', 'B', 'C', 'D']\n",
      "Distances: {'A': 0, 'B': inf, 'C': inf, 'D': inf}\n"
     ]
    }
   ],
   "source": [
    "shortest_path(my_graph, 'A')"
   ]
  },
  {
   "cell_type": "markdown",
   "id": "4a417b88",
   "metadata": {},
   "source": [
    "#### Step 27\n",
    "#### Toutes les distances dans distances sont définies sur infini, sauf pour le nœud de départ. La liste non visitée contient tous les nœuds de votre graphe. Mais en réalité, vous n'avez pas besoin de cette boucle for pour obtenir ce résultat.\n",
    "#### Supprimez votre boucle for avec tout son contenu."
   ]
  },
  {
   "cell_type": "code",
   "execution_count": 27,
   "id": "42fad5bc",
   "metadata": {},
   "outputs": [
    {
     "name": "stdout",
     "output_type": "stream",
     "text": [
      "Unvisited: []\n",
      "Distances: {}\n"
     ]
    }
   ],
   "source": [
    "def shortest_path(graph, start):\n",
    "    unvisited = []\n",
    "    distances = {}\n",
    "    \n",
    "    print(f'Unvisited: {unvisited}\\nDistances: {distances}')\n",
    "    \n",
    "shortest_path(my_graph, 'A')"
   ]
  },
  {
   "cell_type": "markdown",
   "id": "ee576179",
   "metadata": {},
   "source": [
    "#### Step 28\n",
    "#### Le constructeur de type list() vous permet de construire une liste à partir d'un itérable.\n",
    "#### Modifiez l'assignation de votre variable unvisited pour utiliser list(), et passez graph comme l'itérable."
   ]
  },
  {
   "cell_type": "code",
   "execution_count": 28,
   "id": "b1913a84",
   "metadata": {},
   "outputs": [
    {
     "name": "stdout",
     "output_type": "stream",
     "text": [
      "Unvisited: ['A', 'B', 'C', 'D']\n",
      "Distances: {'A': 0, 'B': inf, 'C': inf, 'D': inf}\n"
     ]
    }
   ],
   "source": [
    "def shortest_path(graph, start):\n",
    "    unvisited = list(graph)  \n",
    "    distances = {node: 0 if node == start else float('inf') for node in graph}\n",
    "    \n",
    "    print(f'Unvisited: {unvisited}\\nDistances: {distances}')\n",
    "    \n",
    "shortest_path(my_graph, 'A')"
   ]
  },
  {
   "cell_type": "markdown",
   "id": "acb4a094",
   "metadata": {},
   "source": [
    "#### Step 29\n",
    "#### Avec une compréhension de dictionnaire, vous pouvez créer un dictionnaire à partir d'un dictionnaire existant :\n",
    "#### {clé: val for clé in dict}\n",
    "#### Vous voulez suivre les chemins entre le nœud de départ et chaque autre nœud.\n",
    "#### Après la variable distances, créez une variable paths et attribuez-lui un dictionnaire avec toutes les clés de graph. Attribuez une liste vide à chaque clé et utilisez une compréhension de dictionnaire pour construire votre dictionnaire.\n",
    "\n",
    "\n",
    "\n",
    "\n",
    "\n"
   ]
  },
  {
   "cell_type": "code",
   "execution_count": 29,
   "id": "2164be0e",
   "metadata": {},
   "outputs": [
    {
     "name": "stdout",
     "output_type": "stream",
     "text": [
      "Unvisited: ['A', 'B', 'C', 'D']\n",
      "Distances: {}\n"
     ]
    }
   ],
   "source": [
    "def shortest_path(graph, start):\n",
    "    unvisited = list(graph)\n",
    "    distances = {}\n",
    "    paths = {node: [] for node in graph} \n",
    "    \n",
    "    print(f'Unvisited: {unvisited}\\nDistances: {distances}')\n",
    "    \n",
    "shortest_path(my_graph, 'A')"
   ]
  },
  {
   "cell_type": "markdown",
   "id": "38cbbc8f",
   "metadata": {},
   "source": [
    "#### Step 30\n",
    "#### Les compréhensions de dictionnaire supportent également la syntaxe conditionnelle if/else :\n",
    "#### {clé: val_1 if condition else val_2 for clé in dict}\n",
    "#### Utilisez une compréhension de dictionnaire pour créer un dictionnaire basé sur graph et assignez-le à la variable distances. Donnez à la clé une valeur de zéro si le nœud est égal au nœud de départ, et infini sinon. Utilisez float('inf') pour obtenir le dernier."
   ]
  },
  {
   "cell_type": "code",
   "execution_count": 30,
   "id": "35434585",
   "metadata": {},
   "outputs": [],
   "source": [
    "def shortest_path(graph, start):\n",
    "    unvisited = list(graph)\n",
    "    distances = {node: 0 if node == start else float('inf') for node in graph}  \n",
    "    paths = {node: [] for node in graph}\n",
    "    \n",
    "shortest_path(my_graph, 'A')"
   ]
  },
  {
   "cell_type": "markdown",
   "id": "f5688061",
   "metadata": {},
   "source": [
    "#### Step 31\n",
    "#### Puisque l'algorithme commence son évaluation à partir du nœud de départ, après avoir créé le dictionnaire des chemins, vous devez ajouter le nœud de départ à sa propre liste dans le dictionnaire des chemins.\n",
    "#### Utilisez la méthode append() pour ajouter start à la liste paths[start]."
   ]
  },
  {
   "cell_type": "code",
   "execution_count": 31,
   "id": "644b145a",
   "metadata": {},
   "outputs": [
    {
     "name": "stdout",
     "output_type": "stream",
     "text": [
      "Unvisited: ['A', 'B', 'C', 'D']\n",
      "Distances: {'A': 0, 'B': inf, 'C': inf, 'D': inf}\n"
     ]
    }
   ],
   "source": [
    "def shortest_path(graph, start):\n",
    "    unvisited = list(graph)\n",
    "    distances = {node: 0 if node == start else float('inf') for node in graph}\n",
    "    paths = {node: [] for node in graph}\n",
    "    paths[start].append(start)\n",
    "    \n",
    "    print(f'Unvisited: {unvisited}\\nDistances: {distances}')\n",
    "    \n",
    "shortest_path(my_graph, 'A')"
   ]
  },
  {
   "cell_type": "markdown",
   "id": "2a718512",
   "metadata": {},
   "source": [
    "#### Step 32\n",
    "#### Ajoutez \\nChemin : {paths} à la fin de la chaîne f passée à l'appel de print, afin qu'elle imprime également la variable paths."
   ]
  },
  {
   "cell_type": "code",
   "execution_count": 32,
   "id": "2bd981e2",
   "metadata": {},
   "outputs": [
    {
     "name": "stdout",
     "output_type": "stream",
     "text": [
      "Unvisited: ['A', 'B', 'C', 'D']\n",
      "Distances: {'A': 0, 'B': inf, 'C': inf, 'D': inf}\n",
      "Paths: {'A': ['A'], 'B': [], 'C': [], 'D': []}\n"
     ]
    }
   ],
   "source": [
    "def shortest_path(graph, start):\n",
    "    unvisited = list(graph)\n",
    "    distances = {node: 0 if node == start else float('inf') for node in graph}\n",
    "    paths = {node: [] for node in graph}\n",
    "    paths[start].append(start)\n",
    "    \n",
    "    print(f'Unvisited: {unvisited}\\nDistances: {distances}\\nPaths: {paths}')\n",
    "    \n",
    "shortest_path(my_graph, 'A')"
   ]
  },
  {
   "cell_type": "markdown",
   "id": "453d1159",
   "metadata": {},
   "source": [
    "#### Step 33\n",
    "#### Votre fonction va explorer tous les nœuds connectés au nœud de départ. Elle calculera les plus courts chemins pour tous. Ensuite, elle supprimera le nœud de départ des nœuds non visités.\n",
    "#### Ensuite, le nœud voisin le plus proche sera visité et le processus sera répété jusqu'à ce que tous les nœuds soient visités.\n",
    "#### À partir de maintenant, vous allez travailler sur la boucle principale qui explore les nœuds dans le graphe. Pour éviter les problèmes avec l'exécution d'une boucle infinie pendant le développement de l'algorithme, transformez votre appel de fonction en commentaire."
   ]
  },
  {
   "cell_type": "code",
   "execution_count": 33,
   "id": "5402bd83",
   "metadata": {},
   "outputs": [],
   "source": [
    "def shortest_path(graph, start):\n",
    "    unvisited = list(graph)\n",
    "    distances = {node: 0 if node == start else float('inf') for node in graph}\n",
    "    paths = {node: [] for node in graph}\n",
    "    paths[start].append(start)\n",
    "    \n",
    "    print(f'Unvisited: {unvisited}\\nDistances: {distances}\\nPaths: {paths}')\n",
    "    \n",
    "#shortest_path(my_graph, 'A')"
   ]
  },
  {
   "cell_type": "markdown",
   "id": "20348086",
   "metadata": {},
   "source": [
    "#### Step 34\n",
    "#### Avant l'appel de print, créez une boucle while qui s'exécute tant que unvisited n'est pas vide. Utilisez le mot-clé pass pour remplir le corps de la boucle."
   ]
  },
  {
   "cell_type": "code",
   "execution_count": 34,
   "id": "fa234797",
   "metadata": {},
   "outputs": [],
   "source": [
    "def shortest_path(graph, start):\n",
    "    unvisited = list(graph)\n",
    "    distances = {node: 0 if node == start else float('inf') for node in graph}\n",
    "    paths = {node: [] for node in graph}\n",
    "    paths[start].append(start)\n",
    "    while unvisited:  \n",
    "        pass\n",
    "    \n",
    "    print(f'Unvisited: {unvisited}\\nDistances: {distances}\\nPaths: {paths}')\n",
    "    \n",
    "#shortest_path(my_graph, 'A')"
   ]
  },
  {
   "cell_type": "markdown",
   "id": "13efbe0b",
   "metadata": {},
   "source": [
    "#### Step 35\n",
    "#### À l'intérieur de la boucle while, la première chose à faire est de définir le nœud actuel à visiter. Pour cela, vous pouvez utiliser la fonction min(). Elle renvoie l'élément le plus petit de l'itérable passé en argument.\n",
    "#### Supprimez pass, puis créez une variable appelée current et attribuez-lui min(unvisited)."
   ]
  },
  {
   "cell_type": "code",
   "execution_count": 35,
   "id": "879c72a4",
   "metadata": {},
   "outputs": [],
   "source": [
    "def shortest_path(graph, start):\n",
    "    unvisited = list(graph)\n",
    "    distances = {node: 0 if node == start else float('inf') for node in graph}\n",
    "    paths = {node: [] for node in graph}\n",
    "    paths[start].append(start)\n",
    "    while unvisited:\n",
    "        current = min(unvisited)  \n",
    "        unvisited.remove(current)\n",
    "    print(f'Unvisited: {unvisited}\\nDistances: {distances}\\nPaths: {paths}')\n",
    "    \n",
    "#shortest_path(my_graph, 'A')\n"
   ]
  },
  {
   "cell_type": "markdown",
   "id": "cadd1aff",
   "metadata": {},
   "source": [
    "#### Step 36\n",
    "#### min() prend également un argument uniquement mot-clé. En passant une fonction en tant qu'argument supplémentaire à min(), vous pouvez modifier la façon dont les éléments de la liste sont comparés.\n",
    "#### Le résultat de la ligne que vous venez d'écrire à l'étape précédente est le nœud qui vient en premier dans l'ordre alphabétique. Au lieu de cela, vous voulez sélectionner le nœud non visité ayant la plus petite distance par rapport au nœud de départ.\n",
    "#### Passez key=distances.get comme deuxième argument à votre appel min(). De cette manière, la comparaison se fera en fonction de la valeur que chaque élément de la liste non visitée a à l'intérieur du dictionnaire distances."
   ]
  },
  {
   "cell_type": "code",
   "execution_count": 36,
   "id": "ac48cc95",
   "metadata": {},
   "outputs": [],
   "source": [
    "my_graph = {\n",
    "    'A': [('B', 3), ('D', 1)],\n",
    "    'B': [('A', 3), ('C', 4)],\n",
    "    'C': [('B', 4), ('D', 7)],\n",
    "    'D': [('A', 1), ('C', 7)]\n",
    "}\n",
    "\n",
    "def shortest_path(graph, start):\n",
    "    unvisited = list(graph)\n",
    "    distances = {node: 0 if node == start else float('inf') for node in graph}\n",
    "    paths = {node: [] for node in graph}\n",
    "    paths[start].append(start)\n",
    "    while unvisited:\n",
    "        current = min(unvisited, key=distances.get)  \n",
    "        unvisited.remove(current)\n",
    "    print(f'Unvisited: {unvisited}\\nDistances: {distances}\\nPaths: {paths}')\n",
    "    \n",
    "#shortest_path(my_graph, 'A')\n"
   ]
  },
  {
   "cell_type": "markdown",
   "id": "d63aaba7",
   "metadata": {},
   "source": [
    "#### Step 37\n",
    "#### Après l'assignation de la variable current, créez une boucle for pour itérer sur les tuples dans la liste graph[current]. Vous aurez besoin de deux variables d'itération pour cela."
   ]
  },
  {
   "cell_type": "code",
   "execution_count": 37,
   "id": "66755887",
   "metadata": {},
   "outputs": [],
   "source": [
    "my_graph = {\n",
    "    'A': [('B', 3), ('D', 1)],\n",
    "    'B': [('A', 3), ('C', 4)],\n",
    "    'C': [('B', 4), ('D', 7)],\n",
    "    'D': [('A', 1), ('C', 7)]\n",
    "}\n",
    "\n",
    "def shortest_path(graph, start):\n",
    "    unvisited = list(graph)\n",
    "    distances = {node: 0 if node == start else float('inf') for node in graph}\n",
    "    paths = {node: [] for node in graph}\n",
    "    paths[start].append(start)\n",
    "    while unvisited:\n",
    "        current = min(unvisited, key=distances.get)\n",
    "        for neighbor, distance in graph[current]:  \n",
    "            pass\n",
    "    print(f'Unvisited: {unvisited}\\nDistances: {distances}\\nPaths: {paths}')\n",
    "    \n",
    "#shortest_path(my_graph, 'A')\n"
   ]
  },
  {
   "cell_type": "markdown",
   "id": "1141c474",
   "metadata": {},
   "source": [
    "#### Step 38\n",
    "#### Créez une instruction if pour vérifier si la distance du nœud voisin (le deuxième élément du tuple traité) plus la distance actuelle est inférieure à la distance actuellement connue du nœud voisin (le premier élément du tuple traité).\n",
    "#### Utilisez le mot-clé pass pour remplir temporairement le corps du if."
   ]
  },
  {
   "cell_type": "code",
   "execution_count": 38,
   "id": "f8631cd6",
   "metadata": {},
   "outputs": [],
   "source": [
    "my_graph = {\n",
    "    'A': [('B', 3), ('D', 1)],\n",
    "    'B': [('A', 3), ('C', 4)],\n",
    "    'C': [('B', 4), ('D', 7)],\n",
    "    'D': [('A', 1), ('C', 7)]\n",
    "}\n",
    "\n",
    "def shortest_path(graph, start):\n",
    "    unvisited = list(graph)\n",
    "    distances = {node: 0 if node == start else float('inf') for node in graph}\n",
    "    paths = {node: [] for node in graph}\n",
    "    paths[start].append(start)\n",
    "    \n",
    "    while unvisited:\n",
    "        current = min(unvisited, key=distances.get)\n",
    "        for node, distance in graph[current]:\n",
    "            if distance + distances[current] < distances[node]:  \n",
    "                pass \n",
    "    print(f'Unvisited: {unvisited}\\nDistances: {distances}\\nPaths: {paths}')\n",
    "    \n",
    "#shortest_path(my_graph, 'A')"
   ]
  },
  {
   "cell_type": "markdown",
   "id": "84c814cf",
   "metadata": {},
   "source": [
    "#### Step 39\n",
    "#### À l'intérieur de votre nouveau bloc if, supprimez pass et réaffectez la distance du nœud voisin à la somme de la distance du nœud voisin plus la distance actuelle."
   ]
  },
  {
   "cell_type": "code",
   "execution_count": 39,
   "id": "4aacd980",
   "metadata": {},
   "outputs": [],
   "source": [
    "my_graph = {\n",
    "    'A': [('B', 3), ('D', 1)],\n",
    "    'B': [('A', 3), ('C', 4)],\n",
    "    'C': [('B', 4), ('D', 7)],\n",
    "    'D': [('A', 1), ('C', 7)]\n",
    "}\n",
    "\n",
    "def shortest_path(graph, start):\n",
    "    unvisited = list(graph)\n",
    "    distances = {node: 0 if node == start else float('inf') for node in graph}\n",
    "    paths = {node: [] for node in graph}\n",
    "    paths[start].append(start)\n",
    "\n",
    "    while unvisited:\n",
    "        current = min(unvisited, key=distances.get)\n",
    "        for node, distance in graph[current]:\n",
    "            if distance + distances[current] < distances[node]:\n",
    "                distances[node] = distance + distances[current] \n",
    "    print(f'Unvisited: {unvisited}\\nDistances: {distances}\\nPaths: {paths}')\n",
    "    \n",
    "#shortest_path(my_graph, 'A')"
   ]
  },
  {
   "cell_type": "markdown",
   "id": "1ab4b6af",
   "metadata": {},
   "source": [
    "#### Step 40\n",
    "#### Une fois que la distance à un nœud est définie dans le dictionnaire des distances, vous devez également suivre le chemin vers ce nœud. Si la distance pour le nœud dans le tuple traité a été mise à jour, le dernier élément de son chemin est le nœud lui-même.\n",
    "#### À l'intérieur de votre condition, imbriquez une autre instruction if qui se déclenche lorsque le dernier élément de paths[nœud] est égal à nœud."
   ]
  },
  {
   "cell_type": "code",
   "execution_count": 40,
   "id": "5354d548",
   "metadata": {},
   "outputs": [],
   "source": [
    "my_graph = {\n",
    "    'A': [('B', 3), ('D', 1)],\n",
    "    'B': [('A', 3), ('C', 4)],\n",
    "    'C': [('B', 4), ('D', 7)],\n",
    "    'D': [('A', 1), ('C', 7)]\n",
    "}\n",
    "\n",
    "def shortest_path(graph, start):\n",
    "    unvisited = list(graph)\n",
    "    distances = {node: 0 if node == start else float('inf') for node in graph}\n",
    "    paths = {node: [] for node in graph}\n",
    "    paths[start].append(start)\n",
    "    while unvisited:\n",
    "        current = min(unvisited, key=distances.get)\n",
    "        for node, distance in graph[current]:\n",
    "            if distance + distances[current] < distances[node]:\n",
    "                distances[node] = distance + distances[current]\n",
    "                if  paths[node][-1] == node:  \n",
    "                    pass\n",
    "    print(f'Unvisited: {unvisited}\\nDistances: {distances}\\nPaths: {paths}')\n",
    "    \n",
    "#shortest_path(my_graph, 'A')"
   ]
  },
  {
   "cell_type": "markdown",
   "id": "fb632607",
   "metadata": {},
   "source": [
    "#### Step 41\n",
    "#### Maintenant, supprimez pass et affectez paths[node] à paths[current]."
   ]
  },
  {
   "cell_type": "code",
   "execution_count": 41,
   "id": "db3bc358",
   "metadata": {},
   "outputs": [],
   "source": [
    "my_graph = {\n",
    "    'A': [('B', 3), ('D', 1)],\n",
    "    'B': [('A', 3), ('C', 4)],\n",
    "    'C': [('B', 4), ('D', 7)],\n",
    "    'D': [('A', 1), ('C', 7)]\n",
    "}\n",
    "\n",
    "def shortest_path(graph, start):\n",
    "    unvisited = list(graph)\n",
    "    distances = {node: 0 if node == start else float('inf') for node in graph}\n",
    "    paths = {node: [] for node in graph}\n",
    "    paths[start].append(start)\n",
    "    while unvisited:\n",
    "        current = min(unvisited, key=distances.get)\n",
    "        for node, distance in graph[current]:\n",
    "            if distance + distances[current] < distances[node]:\n",
    "                distances[node] = distance + distances[current]\n",
    "                if paths[node][-1] == node:\n",
    "                    paths[node] = paths[current]\n",
    "    print(f'Unvisited: {unvisited}\\nDistances: {distances}\\nPaths: {paths}')\n",
    "    \n",
    "#shortest_path(my_graph, 'A')"
   ]
  },
  {
   "cell_type": "markdown",
   "id": "670c5a4e",
   "metadata": {},
   "source": [
    "#### Step 42\n",
    "####  Ensuite, créez une instruction else et utilisez la fonction extend() pour ajouter le chemin du nœud actuel au chemin du nœud voisin."
   ]
  },
  {
   "cell_type": "code",
   "execution_count": 42,
   "id": "1312168f",
   "metadata": {},
   "outputs": [],
   "source": [
    "my_graph = {\n",
    "    'A': [('B', 3), ('D', 1)],\n",
    "    'B': [('A', 3), ('C', 4)],\n",
    "    'C': [('B', 4), ('D', 7)],\n",
    "    'D': [('A', 1), ('C', 7)]\n",
    "}\n",
    "\n",
    "def shortest_path(graph, start):\n",
    "    unvisited = list(graph)\n",
    "    distances = {node: 0 if node == start else float('inf') for node in graph}\n",
    "    paths = {node: [] for node in graph}\n",
    "    paths[start].append(start)\n",
    "    \n",
    "    while unvisited:\n",
    "        current = min(unvisited, key=distances.get)\n",
    "        for node, distance in graph[current]:\n",
    "            if distance + distances[current] < distances[node]:\n",
    "                distances[node] = distance + distances[current]\n",
    "                if paths[node][-1] == node:\n",
    "                    paths[node] = paths[current]\n",
    "                else:\n",
    "                    paths[node].extend(paths[current])    \n",
    "    print(f'Unvisited: {unvisited}\\nDistances: {distances}\\nPaths: {paths}')\n",
    "    \n",
    "#shortest_path(my_graph, 'A')"
   ]
  },
  {
   "cell_type": "markdown",
   "id": "5b28373a",
   "metadata": {},
   "source": [
    "#### Step 43\n",
    "#### Enfin, en dehors des conditionnels imbriqués, ajoutez le nœud voisin à son chemin."
   ]
  },
  {
   "cell_type": "code",
   "execution_count": 43,
   "id": "02bcaf04",
   "metadata": {},
   "outputs": [],
   "source": [
    "my_graph = {\n",
    "    'A': [('B', 3), ('D', 1)],\n",
    "    'B': [('A', 3), ('C', 4)],\n",
    "    'C': [('B', 4), ('D', 7)],\n",
    "    'D': [('A', 1), ('C', 7)]\n",
    "}\n",
    "\n",
    "def shortest_path(graph, start):\n",
    "    unvisited = list(graph)\n",
    "    distances = {node: 0 if node == start else float('inf') for node in graph}\n",
    "    paths = {node: [] for node in graph}\n",
    "    paths[start].append(start)\n",
    "    while unvisited:\n",
    "        current = min(unvisited, key=distances.get)\n",
    "        for node, distance in graph[current]:\n",
    "            if distance + distances[current] < distances[node]:\n",
    "                distances[node] = distance + distances[current]\n",
    "                if paths[node][-1] == node:\n",
    "                    paths[node] = paths[current]\n",
    "                else:\n",
    "                    paths[node].extend(paths[current])\n",
    "                paths[node].append(node) \n",
    "    print(f'Unvisited: {unvisited}\\nDistances: {distances}\\nPaths: {paths}')\n",
    "    \n",
    "#shortest_path(my_graph, 'A')"
   ]
  },
  {
   "cell_type": "markdown",
   "id": "3905fd6f",
   "metadata": {},
   "source": [
    "#### Step 44\n",
    "#### Terminez la boucle while en supprimant le nœud actuel de la liste unvisited. Faites attention à l'indentation."
   ]
  },
  {
   "cell_type": "code",
   "execution_count": 44,
   "id": "902e9813",
   "metadata": {},
   "outputs": [],
   "source": [
    "my_graph = {\n",
    "    'A': [('B', 3), ('D', 1)],\n",
    "    'B': [('A', 3), ('C', 4)],\n",
    "    'C': [('B', 4), ('D', 7)],\n",
    "    'D': [('A', 1), ('C', 7)]\n",
    "}\n",
    "\n",
    "def shortest_path(graph, start):\n",
    "    unvisited = list(graph)\n",
    "    distances = {node: 0 if node == start else float('inf') for node in graph}\n",
    "    paths = {node: [] for node in graph}\n",
    "    paths[start].append(start)\n",
    "    while unvisited:\n",
    "        current = min(unvisited, key=distances.get)\n",
    "        for node, distance in graph[current]:\n",
    "            if distance + distances[current] < distances[node]:\n",
    "                distances[node] = distance + distances[current]\n",
    "                if paths[node][-1] == node:\n",
    "                    paths[node] = paths[current]\n",
    "                else:\n",
    "                    paths[node].extend(path[current])\n",
    "                paths[node].append(node)\n",
    "        unvisited.remove(current)        \n",
    "    print(f'Unvisited: {unvisited}\\nDistances: {distances}\\nPaths: {paths}')\n",
    "    \n",
    "#shortest_path(my_graph, 'A')\n"
   ]
  },
  {
   "cell_type": "markdown",
   "id": "be534d27",
   "metadata": {},
   "source": [
    "#### Step 45\n",
    "#### Si vous essayez de décommenter votre appel de fonction, cela ne fonctionnera pas. Vous avez quelques bugs à corriger. Le premier se produit parce que dans le if imbriqué, vous essayez d'accéder à une clé qui pourrait ne pas exister dans votre dictionnaire paths. Vous devez donc vous assurer que paths[node] n'est pas vide avant d'accéder à paths[node][-1].\n",
    "#### Ajoutez une condition supplémentaire à votre instruction if imbriquée pour vous assurer que paths[node] n'est pas vide avant d'accéder à paths[node][-1]."
   ]
  },
  {
   "cell_type": "code",
   "execution_count": 45,
   "id": "f76e457e",
   "metadata": {},
   "outputs": [],
   "source": [
    "my_graph = {\n",
    "    'A': [('B', 3), ('D', 1)],\n",
    "    'B': [('A', 3), ('C', 4)],\n",
    "    'C': [('B', 4), ('D', 7)],\n",
    "    'D': [('A', 1), ('C', 7)]\n",
    "}\n",
    "\n",
    "def shortest_path(graph, start):\n",
    "    unvisited = list(graph)\n",
    "    distances = {node: 0 if node == start else float('inf') for node in graph}\n",
    "    paths = {node: [] for node in graph}\n",
    "    paths[start].append(start)\n",
    "    \n",
    "    while unvisited:\n",
    "        current = min(unvisited, key=distances.get)\n",
    "        for node, distance in graph[current]:\n",
    "            if distance + distances[current] < distances[node]:\n",
    "                distances[node] = distance + distances[current]\n",
    "                if paths[node] and paths[node][-1] == node:\n",
    "                    paths[node] = paths[current]\n",
    "                else:\n",
    "                    paths[node].extend(paths[current])\n",
    "                paths[node].append(node)\n",
    "        unvisited.remove(current)\n",
    "    \n",
    "    print(f'Unvisited: {unvisited}\\nDistances: {distances}\\nPaths: {paths}')\n",
    "    \n",
    "#shortest_path(my_graph, 'A')"
   ]
  },
  {
   "cell_type": "markdown",
   "id": "e1763862",
   "metadata": {},
   "source": [
    "#### Step 46\n",
    "#### Maintenant, décommentez votre appel de fonction."
   ]
  },
  {
   "cell_type": "code",
   "execution_count": 46,
   "id": "30179a2f",
   "metadata": {},
   "outputs": [
    {
     "name": "stdout",
     "output_type": "stream",
     "text": [
      "Unvisited: []\n",
      "Distances: {'A': 0, 'B': 3, 'C': 7, 'D': 1}\n",
      "Paths: {'A': ['A'], 'B': ['A', 'B', 'C'], 'C': ['A', 'B', 'C'], 'D': ['A', 'D']}\n"
     ]
    }
   ],
   "source": [
    "my_graph = {\n",
    "    'A': [('B', 3), ('D', 1)],\n",
    "    'B': [('A', 3), ('C', 4)],\n",
    "    'C': [('B', 4), ('D', 7)],\n",
    "    'D': [('A', 1), ('C', 7)]\n",
    "}\n",
    "\n",
    "def shortest_path(graph, start):\n",
    "    unvisited = list(graph)\n",
    "    distances = {node: 0 if node == start else float('inf') for node in graph}\n",
    "    paths = {node: [] for node in graph}\n",
    "    paths[start].append(start)\n",
    "    \n",
    "    while unvisited:\n",
    "        current = min(unvisited, key=distances.get)\n",
    "        for node, distance in graph[current]:\n",
    "            if distance + distances[current] < distances[node]:\n",
    "                distances[node] = distance + distances[current]\n",
    "                if paths[node] and paths[node][-1] == node:\n",
    "                    paths[node] = paths[current]\n",
    "\n",
    "                else:\n",
    "                    paths[node].extend(paths[current])\n",
    "                paths[node].append(node)\n",
    "        unvisited.remove(current)\n",
    "    \n",
    "    print(f'Unvisited: {unvisited}\\nDistances: {distances}\\nPaths: {paths}')\n",
    "    \n",
    "shortest_path(my_graph, 'A')"
   ]
  },
  {
   "cell_type": "markdown",
   "id": "edde1cfa",
   "metadata": {},
   "source": [
    "#### Step 47\n",
    "#### L'autre bug est subtil. Lorsqu'une distance plus courte est trouvée pour un nœud voisin, paths[current] est assigné au chemin du nœud voisin, paths[node].\n",
    "#### Cela signifie que les deux variables pointent vers la même liste. Comme les listes sont mutables, lorsque vous ajoutez le nœud voisin à son chemin, à la fois paths[node] et paths[current] sont modifiés car ils sont la même liste. Cela entraîne des chemins incorrects, bien que les distances soient correctes.\n",
    "#### Corrigez ce bogue en assignant une copie de paths[current] au chemin du nœud voisin. Modifiez l'assignation existante à l'intérieur de votre bloc if."
   ]
  },
  {
   "cell_type": "code",
   "execution_count": 47,
   "id": "1e72f4be",
   "metadata": {},
   "outputs": [
    {
     "name": "stdout",
     "output_type": "stream",
     "text": [
      "Unvisited: []\n",
      "Distances: {'A': 0, 'B': 3, 'C': 7, 'D': 1}\n",
      "Paths: {'A': ['A'], 'B': ['A', 'B'], 'C': ['A', 'B', 'C'], 'D': ['A', 'D']}\n"
     ]
    }
   ],
   "source": [
    "my_graph = {\n",
    "    'A': [('B', 3), ('D', 1)],\n",
    "    'B': [('A', 3), ('C', 4)],\n",
    "    'C': [('B', 4), ('D', 7)],\n",
    "    'D': [('A', 1), ('C', 7)]\n",
    "}\n",
    "\n",
    "def shortest_path(graph, start):\n",
    "    unvisited = list(graph)\n",
    "    distances = {node: 0 if node == start else float('inf') for node in graph}\n",
    "    paths = {node: [] for node in graph}\n",
    "    paths[start].append(start)\n",
    "    \n",
    "    while unvisited:\n",
    "        current = min(unvisited, key=distances.get)\n",
    "        for node, distance in graph[current]:\n",
    "            if distance + distances[current] < distances[node]:\n",
    "                distances[node] = distance + distances[current]\n",
    "                if paths[node] and paths[node][-1] == node:\n",
    "                    paths[node] = paths[current][:]\n",
    "                else:\n",
    "                    paths[node].extend(paths[current])\n",
    "                paths[node].append(node)\n",
    "        unvisited.remove(current)\n",
    "    \n",
    "    print(f'Unvisited: {unvisited}\\nDistances: {distances}\\nPaths: {paths}')\n",
    "    \n",
    "shortest_path(my_graph, 'A')"
   ]
  },
  {
   "cell_type": "markdown",
   "id": "573bed3c",
   "metadata": {},
   "source": [
    "#### Step 48\n",
    "#### L'algorithme est complet mais vous pouvez améliorer la sortie. De plus, vous pouvez fournir à la fonction un argument supplémentaire pour ne retourner que le chemin entre deux nœuds.\n",
    "#### Ajoutez target comme troisième paramètre à la déclaration de votre fonction et donnez-lui la valeur par défaut d'une chaîne vide."
   ]
  },
  {
   "cell_type": "code",
   "execution_count": 48,
   "id": "8ffa54e5",
   "metadata": {},
   "outputs": [
    {
     "name": "stdout",
     "output_type": "stream",
     "text": [
      "Unvisited: []\n",
      "Distances: {'A': 0, 'B': 3, 'C': 7, 'D': 1}\n",
      "Paths: {'A': ['A'], 'B': ['A', 'B'], 'C': ['A', 'B', 'C'], 'D': ['A', 'D']}\n"
     ]
    }
   ],
   "source": [
    "my_graph = {\n",
    "    'A': [('B', 3), ('D', 1)],\n",
    "    'B': [('A', 3), ('C', 4)],\n",
    "    'C': [('B', 4), ('D', 7)],\n",
    "    'D': [('A', 1), ('C', 7)]\n",
    "}\n",
    "def shortest_path(graph, start,target = ''):\n",
    "    unvisited = list(graph)\n",
    "    distances = {node: 0 if node == start else float('inf') for node in graph}\n",
    "    paths = {node: [] for node in graph}\n",
    "    paths[start].append(start)\n",
    "    \n",
    "    while unvisited:\n",
    "        current = min(unvisited, key=distances.get)\n",
    "        for node, distance in graph[current]:\n",
    "            if distance + distances[current] < distances[node]:\n",
    "                distances[node] = distance + distances[current]\n",
    "                if paths[node] and paths[node][-1] == node:\n",
    "                    paths[node] = paths[current][:]\n",
    "                else:\n",
    "                    paths[node].extend(paths[current])\n",
    "                paths[node].append(node)\n",
    "        unvisited.remove(current)\n",
    "    \n",
    "    print(f'Unvisited: {unvisited}\\nDistances: {distances}\\nPaths: {paths}')\n",
    "    \n",
    "shortest_path(my_graph, 'A')\n"
   ]
  },
  {
   "cell_type": "markdown",
   "id": "ec3840ad",
   "metadata": {},
   "source": [
    "#### Step 49\n",
    "#### Python fournit une manière concise d'écrire des conditionnelles if/else en utilisant la syntaxe ternaire :\n",
    "#### val_1 if condition else val_2\n",
    "#### L'expression ci-dessus évalue à val_1 si la condition est vraie, sinon à val_2.\n",
    "#### Supprimez votre appel à print et créez une variable appelée targets_to_print après votre boucle while. Utilisez la syntaxe ternaire pour lui assigner [target] lorsque target est vrai, et graph sinon."
   ]
  },
  {
   "cell_type": "code",
   "execution_count": 49,
   "id": "bf9343fd",
   "metadata": {},
   "outputs": [],
   "source": [
    "my_graph = {\n",
    "    'A': [('B', 3), ('D', 1)],\n",
    "    'B': [('A', 3), ('C', 4)],\n",
    "    'C': [('B', 4), ('D', 7)],\n",
    "    'D': [('A', 1), ('C', 7)]\n",
    "}\n",
    "\n",
    "def shortest_path(graph, start, target = ''):\n",
    "    unvisited = list(graph)\n",
    "    distances = {node: 0 if node == start else float('inf') for node in graph}\n",
    "    paths = {node: [] for node in graph}\n",
    "    paths[start].append(start)\n",
    "    \n",
    "    while unvisited:\n",
    "        current = min(unvisited, key=distances.get)\n",
    "        for node, distance in graph[current]:\n",
    "            if distance + distances[current] < distances[node]:\n",
    "                distances[node] = distance + distances[current]\n",
    "                if paths[node] and paths[node][-1] == node:\n",
    "                    paths[node] = paths[current][:]\n",
    "                else:\n",
    "                    paths[node].extend(paths[current])\n",
    "                paths[node].append(node)\n",
    "        unvisited.remove(current)\n",
    "    targets_to_print = [target] if target else graph\n",
    "\n",
    "    if target:\n",
    "        return paths[target]\n",
    "    \n",
    "\n",
    "    \n",
    "shortest_path(my_graph, 'A')"
   ]
  },
  {
   "cell_type": "markdown",
   "id": "04b108d7",
   "metadata": {},
   "source": [
    "#### Step 50\n",
    "#### Créez une boucle for pour itérer sur targets_to_print et imprimez la chaîne f suivante : f'\\n{start}-{node} distance: {distances[node]}\\nPath: {\" -> \".join(paths[node])}'"
   ]
  },
  {
   "cell_type": "code",
   "execution_count": 50,
   "id": "f86f3785",
   "metadata": {},
   "outputs": [
    {
     "name": "stdout",
     "output_type": "stream",
     "text": [
      "\n",
      "A-A distance: 0\n",
      "Path: A\n",
      "\n",
      "A-B distance: 3\n",
      "Path: A -> B\n",
      "\n",
      "A-C distance: 7\n",
      "Path: A -> B -> C\n",
      "\n",
      "A-D distance: 1\n",
      "Path: A -> D\n"
     ]
    }
   ],
   "source": [
    "my_graph = {\n",
    "    'A': [('B', 3), ('D', 1)],\n",
    "    'B': [('A', 3), ('C', 4)],\n",
    "    'C': [('B', 4), ('D', 7)],\n",
    "    'D': [('A', 1), ('C', 7)]\n",
    "}\n",
    "\n",
    "def shortest_path(graph, start, target = ''):\n",
    "    unvisited = list(graph)\n",
    "    distances = {node: 0 if node == start else float('inf') for node in graph}\n",
    "    paths = {node: [] for node in graph}\n",
    "    paths[start].append(start)\n",
    "    \n",
    "    while unvisited:\n",
    "        current = min(unvisited, key=distances.get)\n",
    "        for node, distance in graph[current]:\n",
    "            if distance + distances[current] < distances[node]:\n",
    "                distances[node] = distance + distances[current]\n",
    "                if paths[node] and paths[node][-1] == node:\n",
    "                    paths[node] = paths[current][:]\n",
    "                else:\n",
    "                    paths[node].extend(paths[current])\n",
    "                paths[node].append(node)\n",
    "        unvisited.remove(current)\n",
    "    targets_to_print = [target] if target else graph\n",
    "    for node in targets_to_print:\n",
    "        print(f'\\n{start}-{node} distance: {distances[node]}\\nPath: {\" -> \".join(paths[node])}')\n",
    "\n",
    "\n",
    "shortest_path(my_graph, 'A')"
   ]
  },
  {
   "cell_type": "markdown",
   "id": "c55b760b",
   "metadata": {},
   "source": [
    "#### Step 51\n",
    "#### Maintenant, c'est mieux mais vous ne voulez pas imprimer les détails sur le nœud de départ.\n",
    "#### Avant l'appel de print, ajoutez une instruction if à exécuter lorsque le nœud est égal au départ et utilisez le mot-clé continue pour passer à l'itération suivante de la boucle."
   ]
  },
  {
   "cell_type": "code",
   "execution_count": 51,
   "id": "561c4cac",
   "metadata": {},
   "outputs": [
    {
     "name": "stdout",
     "output_type": "stream",
     "text": [
      "\n",
      "A-B distance: 3\n",
      "Path: A -> B\n",
      "\n",
      "A-C distance: 7\n",
      "Path: A -> B -> C\n",
      "\n",
      "A-D distance: 1\n",
      "Path: A -> D\n"
     ]
    }
   ],
   "source": [
    "my_graph = {\n",
    "    'A': [('B', 3), ('D', 1)],\n",
    "    'B': [('A', 3), ('C', 4)],\n",
    "    'C': [('B', 4), ('D', 7)],\n",
    "    'D': [('A', 1), ('C', 7)]\n",
    "}\n",
    "\n",
    "def shortest_path(graph, start, target = ''):\n",
    "    unvisited = list(graph)\n",
    "    distances = {node: 0 if node == start else float('inf') for node in graph}\n",
    "    paths = {node: [] for node in graph}\n",
    "    paths[start].append(start)\n",
    "    \n",
    "    while unvisited:\n",
    "        current = min(unvisited, key=distances.get)\n",
    "        for node, distance in graph[current]:\n",
    "            if distance + distances[current] < distances[node]:\n",
    "                distances[node] = distance + distances[current]\n",
    "                if paths[node] and paths[node][-1] == node:\n",
    "                    paths[node] = paths[current][:]\n",
    "                else:\n",
    "                    paths[node].extend(paths[current])\n",
    "                paths[node].append(node)\n",
    "        unvisited.remove(current)\n",
    "    targets_to_print = [target] if target else graph\n",
    "    for node in targets_to_print:\n",
    "        if node == start: \n",
    "            continue\n",
    "        print(f'\\n{start}-{node} distance: {distances[node]}\\nPath: {\" -> \".join(paths[node])}')\n",
    "\n",
    "        \n",
    "    \n",
    "shortest_path(my_graph, 'A')"
   ]
  },
  {
   "cell_type": "markdown",
   "id": "e8aa1eaa",
   "metadata": {},
   "source": [
    "#### Step 52\n",
    "#### Enfin, à la toute fin de votre fonction, retournez distances et paths."
   ]
  },
  {
   "cell_type": "code",
   "execution_count": 52,
   "id": "d22092bd",
   "metadata": {},
   "outputs": [
    {
     "name": "stdout",
     "output_type": "stream",
     "text": [
      "\n",
      "A-B distance: 3\n",
      "Path: A -> B\n",
      "\n",
      "A-C distance: 7\n",
      "Path: A -> B -> C\n",
      "\n",
      "A-D distance: 1\n",
      "Path: A -> D\n"
     ]
    },
    {
     "data": {
      "text/plain": [
       "({'A': 0, 'B': 3, 'C': 7, 'D': 1},\n",
       " {'A': ['A'], 'B': ['A', 'B'], 'C': ['A', 'B', 'C'], 'D': ['A', 'D']})"
      ]
     },
     "execution_count": 52,
     "metadata": {},
     "output_type": "execute_result"
    }
   ],
   "source": [
    "my_graph = {\n",
    "    'A': [('B', 3), ('D', 1)],\n",
    "    'B': [('A', 3), ('C', 4)],\n",
    "    'C': [('B', 4), ('D', 7)],\n",
    "    'D': [('A', 1), ('C', 7)]\n",
    "}\n",
    "\n",
    "def shortest_path(graph, start, target = ''):\n",
    "    unvisited = list(graph)\n",
    "    distances = {node: 0 if node == start else float('inf') for node in graph}\n",
    "    paths = {node: [] for node in graph}\n",
    "    paths[start].append(start)\n",
    "    \n",
    "    while unvisited:\n",
    "        current = min(unvisited, key=distances.get)\n",
    "        for node, distance in graph[current]:\n",
    "            if distance + distances[current] < distances[node]:\n",
    "                distances[node] = distance + distances[current]\n",
    "                if paths[node] and paths[node][-1] == node:\n",
    "                    paths[node] = paths[current][:]\n",
    "                else:\n",
    "                    paths[node].extend(paths[current])\n",
    "                paths[node].append(node)\n",
    "        unvisited.remove(current)\n",
    "    targets_to_print = [target] if target else graph\n",
    "    for node in targets_to_print:\n",
    "        if node == start:\n",
    "            continue\n",
    "        print(f'\\n{start}-{node} distance: {distances[node]}\\nPath: {\" -> \".join(paths[node])}')\n",
    "    return distances, paths\n",
    "        \n",
    "    \n",
    "shortest_path(my_graph, 'A')"
   ]
  },
  {
   "cell_type": "markdown",
   "id": "db8d4086",
   "metadata": {},
   "source": [
    "#### Étape 53\n",
    "#### Maintenant, vous allez tester votre fonction avec un autre graphe. Remplacez my_graph par le graphe suivant :\n",
    "\n",
    "#### {\n",
    "     'A': [('B', 5), ('C', 3), ('E', 11)],\n",
    "     'B': [('A', 5), ('C', 1), ('F', 2)],\n",
    "     'C': [('A', 3), ('B', 1), ('D', 1), ('E', 5)],\n",
    "     'D': [('C', 1), ('E', 9), ('F', 3)],\n",
    "     'E': [('A', 11), ('C', 5), ('D', 9)],\n",
    "     'F': [('B', 2), ('D', 3)]\n",
    "#### }"
   ]
  },
  {
   "cell_type": "code",
   "execution_count": 53,
   "id": "6f57e129",
   "metadata": {},
   "outputs": [
    {
     "name": "stdout",
     "output_type": "stream",
     "text": [
      "\n",
      "A-B distance: 4\n",
      "Path: A -> C -> B\n",
      "\n",
      "A-C distance: 3\n",
      "Path: A -> C\n",
      "\n",
      "A-D distance: 4\n",
      "Path: A -> C -> D\n",
      "\n",
      "A-E distance: 8\n",
      "Path: A -> C -> E\n",
      "\n",
      "A-F distance: 6\n",
      "Path: A -> C -> B -> F\n"
     ]
    },
    {
     "data": {
      "text/plain": [
       "({'A': 0, 'B': 4, 'C': 3, 'D': 4, 'E': 8, 'F': 6},\n",
       " {'A': ['A'],\n",
       "  'B': ['A', 'C', 'B'],\n",
       "  'C': ['A', 'C'],\n",
       "  'D': ['A', 'C', 'D'],\n",
       "  'E': ['A', 'C', 'E'],\n",
       "  'F': ['A', 'C', 'B', 'F']})"
      ]
     },
     "execution_count": 53,
     "metadata": {},
     "output_type": "execute_result"
    }
   ],
   "source": [
    "my_graph = {\n",
    "    'A': [('B', 5), ('C', 3), ('E', 11)],\n",
    "    'B': [('A', 5), ('C', 1), ('F', 2)],\n",
    "    'C': [('A', 3), ('B', 1), ('D', 1), ('E', 5)],\n",
    "    'D': [('C', 1), ('E', 9), ('F', 3)],\n",
    "    'E': [('A', 11), ('C', 5), ('D', 9)],\n",
    "    'F': [('B', 2), ('D', 3)]\n",
    "}\n",
    "\n",
    "def shortest_path(graph, start, target = ''):\n",
    "    unvisited = list(graph)\n",
    "    distances = {node: 0 if node == start else float('inf') for node in graph}\n",
    "    paths = {node: [] for node in graph}\n",
    "    paths[start].append(start)\n",
    "    \n",
    "    while unvisited:\n",
    "        current = min(unvisited, key=distances.get)\n",
    "        for node, distance in graph[current]:\n",
    "            if distance + distances[current] < distances[node]:\n",
    "                distances[node] = distance + distances[current]\n",
    "                if paths[node] and paths[node][-1] == node:\n",
    "                    paths[node] = paths[current][:]\n",
    "                else:\n",
    "                    paths[node].extend(paths[current])\n",
    "                paths[node].append(node)\n",
    "        unvisited.remove(current)\n",
    "\n",
    "    targets_to_print = [target] if target else graph\n",
    "    for node in targets_to_print:\n",
    "        if node == start:\n",
    "            continue\n",
    "        print(f'\\n{start}-{node} distance: {distances[node]}\\nPath: {\" -> \".join(paths[node])}')\n",
    "    \n",
    "    return distances, paths\n",
    "shortest_path(my_graph, 'A')\n"
   ]
  },
  {
   "cell_type": "markdown",
   "id": "ababaf54",
   "metadata": {},
   "source": [
    "#### Étape 54\n",
    "#### En guise de dernière étape, modifiez votre appel de fonction en passant F comme troisième argument et vérifiez la sortie.\n",
    "#### Avec cela, l'algorithme du plus court chemin est terminé."
   ]
  },
  {
   "cell_type": "code",
   "execution_count": 54,
   "id": "b1f9debc",
   "metadata": {},
   "outputs": [
    {
     "name": "stdout",
     "output_type": "stream",
     "text": [
      "\n",
      "A-F distance: 6\n",
      "Path: A -> C -> B -> F\n"
     ]
    },
    {
     "data": {
      "text/plain": [
       "({'A': 0, 'B': 4, 'C': 3, 'D': 4, 'E': 8, 'F': 6},\n",
       " {'A': ['A'],\n",
       "  'B': ['A', 'C', 'B'],\n",
       "  'C': ['A', 'C'],\n",
       "  'D': ['A', 'C', 'D'],\n",
       "  'E': ['A', 'C', 'E'],\n",
       "  'F': ['A', 'C', 'B', 'F']})"
      ]
     },
     "execution_count": 54,
     "metadata": {},
     "output_type": "execute_result"
    }
   ],
   "source": [
    "my_graph = {\n",
    "    'A': [('B', 5), ('C', 3), ('E', 11)],\n",
    "    'B': [('A', 5), ('C', 1), ('F', 2)],\n",
    "    'C': [('A', 3), ('B', 1), ('D', 1), ('E', 5)],\n",
    "    'D': [('C',1 ), ('E', 9), ('F', 3)],\n",
    "    'E': [('A', 11), ('C', 5), ('D', 9)],\n",
    "    'F': [('B', 2), ('D', 3)]\n",
    "}\n",
    "\n",
    "def shortest_path(graph, start, target = ''):\n",
    "    unvisited = list(graph)\n",
    "    distances = {node: 0 if node == start else float('inf') for node in graph}\n",
    "    paths = {node: [] for node in graph}\n",
    "    paths[start].append(start)\n",
    "    \n",
    "    while unvisited:\n",
    "        current = min(unvisited, key=distances.get)\n",
    "        for node, distance in graph[current]:\n",
    "            if distance + distances[current] < distances[node]:\n",
    "                distances[node] = distance + distances[current]\n",
    "                if paths[node] and paths[node][-1] == node:\n",
    "                    paths[node] = paths[current][:]\n",
    "                else:\n",
    "                    paths[node].extend(paths[current])\n",
    "                paths[node].append(node)\n",
    "        unvisited.remove(current)\n",
    "    \n",
    "    targets_to_print = [target] if target else graph\n",
    "    for node in targets_to_print:\n",
    "        if node == start:\n",
    "            continue\n",
    "        print(f'\\n{start}-{node} distance: {distances[node]}\\nPath: {\" -> \".join(paths[node])}')\n",
    "    \n",
    "    return distances, paths\n",
    "    \n",
    "shortest_path(my_graph, 'A','F')"
   ]
  },
  {
   "cell_type": "code",
   "execution_count": null,
   "id": "8a55e69e",
   "metadata": {},
   "outputs": [],
   "source": []
  },
  {
   "cell_type": "code",
   "execution_count": null,
   "id": "0ebb9c3f",
   "metadata": {},
   "outputs": [],
   "source": []
  }
 ],
 "metadata": {
  "kernelspec": {
   "display_name": "Python 3 (ipykernel)",
   "language": "python",
   "name": "python3"
  },
  "language_info": {
   "codemirror_mode": {
    "name": "ipython",
    "version": 3
   },
   "file_extension": ".py",
   "mimetype": "text/x-python",
   "name": "python",
   "nbconvert_exporter": "python",
   "pygments_lexer": "ipython3",
   "version": "3.11.5"
  }
 },
 "nbformat": 4,
 "nbformat_minor": 5
}
