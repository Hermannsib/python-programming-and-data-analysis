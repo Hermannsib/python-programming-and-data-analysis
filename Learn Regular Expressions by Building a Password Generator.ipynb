{
 "cells": [
  {
   "cell_type": "markdown",
   "id": "c30b56c4",
   "metadata": {},
   "source": [
    "# Learn Regular Expressions by Building a Password Generator by HERMANN \n",
    "# apprenez les expression regulieres en python par le construction d'un generateur de mots de passe  par HERMANN"
   ]
  },
  {
   "cell_type": "code",
   "execution_count": 6,
   "id": "c8485dc3",
   "metadata": {},
   "outputs": [
    {
     "name": "stdout",
     "output_type": "stream",
     "text": [
      "Generated password: V^\\nJJZzw>4c6l~q\n"
     ]
    }
   ],
   "source": [
    "import re\n",
    "import secrets\n",
    "import string\n",
    "\n",
    "\n",
    "def generate_password(length=16, nums=1, special_chars=1, uppercase=1, lowercase=1):\n",
    "\n",
    "    # Define the possible characters for the password\n",
    "    letters = string.ascii_letters\n",
    "    digits = string.digits\n",
    "    symbols = string.punctuation\n",
    "\n",
    "    # Combine all characters\n",
    "    all_characters = letters + digits + symbols\n",
    "\n",
    "    while True:\n",
    "        password = ''\n",
    "        # Generate password\n",
    "        for _ in range(length):\n",
    "            password += secrets.choice(all_characters)\n",
    "        \n",
    "        constraints = [\n",
    "            (nums, r'\\d'),\n",
    "            (special_chars, fr'[{symbols}]'),\n",
    "            (uppercase, r'[A-Z]'),\n",
    "            (lowercase, r'[a-z]')\n",
    "        ]\n",
    "\n",
    "        # Check constraints        \n",
    "        if all(\n",
    "            constraint <= len(re.findall(pattern, password))\n",
    "            for constraint, pattern in constraints\n",
    "        ):\n",
    "            break\n",
    "    \n",
    "    return password\n",
    "    \n",
    "if __name__ == '__main__':     \n",
    "    new_password = generate_password()\n",
    "    print('Generated password:', new_password)"
   ]
  },
  {
   "cell_type": "code",
   "execution_count": 7,
   "id": "4e7b72f3",
   "metadata": {},
   "outputs": [
    {
     "data": {
      "text/plain": [
       "'.bP8I@u&~1%:}276'"
      ]
     },
     "execution_count": 7,
     "metadata": {},
     "output_type": "execute_result"
    }
   ],
   "source": [
    "generate_password()"
   ]
  },
  {
   "cell_type": "code",
   "execution_count": 10,
   "id": "82751a62",
   "metadata": {},
   "outputs": [
    {
     "name": "stdout",
     "output_type": "stream",
     "text": [
      "1y?8MOl'I\"l\\7/*%\n",
      "PVAD)dLq]b4E1dn^\n",
      "]JP8[Tc]r.5zXht>\n",
      "o4}}]<iXJ,3@+${;\n",
      "I}oSC`Cy}p27bw7^\n",
      "xLy?puwU3V],CTqL\n",
      "i%#]=+SP2x&iSfH+\n",
      "bO!d(QR._j`\"/HN5\n",
      ">9YZJ]gbp5dqbXI\"\n"
     ]
    }
   ],
   "source": [
    "for i in range(9):\n",
    "    print(generate_password())"
   ]
  },
  {
   "cell_type": "code",
   "execution_count": null,
   "id": "9c623652",
   "metadata": {},
   "outputs": [],
   "source": []
  }
 ],
 "metadata": {
  "kernelspec": {
   "display_name": "Python 3 (ipykernel)",
   "language": "python",
   "name": "python3"
  },
  "language_info": {
   "codemirror_mode": {
    "name": "ipython",
    "version": 3
   },
   "file_extension": ".py",
   "mimetype": "text/x-python",
   "name": "python",
   "nbconvert_exporter": "python",
   "pygments_lexer": "ipython3",
   "version": "3.11.5"
  }
 },
 "nbformat": 4,
 "nbformat_minor": 5
}
